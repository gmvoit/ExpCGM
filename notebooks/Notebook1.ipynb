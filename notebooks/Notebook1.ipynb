{
 "cells": [
  {
   "cell_type": "code",
   "execution_count": 1,
   "id": "1b6670ee-9872-4b95-800c-dff793a50c30",
   "metadata": {},
   "outputs": [],
   "source": [
    "import numpy as np\n",
    "import scipy.integrate as integrate\n",
    "import matplotlib.pyplot as plt\n",
    "from ipywidgets import interact, FloatSlider"
   ]
  },
  {
   "cell_type": "code",
   "execution_count": 7,
   "id": "9bf2d61a-9e60-4994-85c8-e36444499110",
   "metadata": {},
   "outputs": [
    {
     "data": {
      "application/vnd.jupyter.widget-view+json": {
       "model_id": "8cd0d42a035646e1a8516976f03ff897",
       "version_major": 2,
       "version_minor": 0
      },
      "text/plain": [
       "interactive(children=(FloatSlider(value=1.5, continuous_update=False, description='alpha', max=2.5, min=1.25, …"
      ]
     },
     "metadata": {},
     "output_type": "display_data"
    }
   ],
   "source": [
    "# This version is a recreation of the graph at https://gmvoit.github.io/ExpCGM/descriptions/Essentials.html\n",
    "# but with a slider for alpha, making it range between 1.25 and 2.5\n",
    "\n",
    "# Constants\n",
    "A_NFW = 4.625\n",
    "# Integration lower limit, since some functions starts become hard to integrate when very to close to 0\n",
    "eps = 10**(-4)\n",
    "\n",
    "# Defining the functions described in the model, for a constant alpha\n",
    "\n",
    "def f_P(x, alpha):        \n",
    "    return np.exp(-alpha * np.log(x))\n",
    "\n",
    "def vc2(x):\n",
    "    return np.log(1 + x) / x - 1 / (1 + x)\n",
    "\n",
    "def phi(x):\n",
    "    return 1 - np.log(1 + x) / x\n",
    "\n",
    "def integrandI(t, alpha): # We define the integrands as seperate functions before integrating them\n",
    "    return f_P(t, alpha) * t**2 / vc2(t)\n",
    "\n",
    "def I(x, alpha):        \n",
    "    resultI, _ = integrate.quad(integrandI, eps, x, args=(alpha,), limit=50)\n",
    "    return alpha / A_NFW * resultI\n",
    "\n",
    "def integrandJphi(t, alpha):\n",
    "    return f_P(t, alpha) * phi(t) / vc2(t) * t**2\n",
    "\n",
    "def Jphi(x, alpha):\n",
    "    resultJphi, _ = integrate.quad(integrandJphi, eps, x, args=(alpha,), limit=50)\n",
    "    return alpha * resultJphi\n",
    "\n",
    "def integrandJth(t, alpha):\n",
    "    return f_P(t, alpha) * t**2\n",
    "\n",
    "def Jth(x, alpha):\n",
    "    resultJth, _ = integrate.quad(integrandJth, eps, x, args=(alpha,), limit=50)\n",
    "    return 3 / 2 * resultJth\n",
    "\n",
    "def F(x, alpha):\n",
    "    return (Jphi(x, alpha) + Jth(x, alpha)) / I(x, alpha)\n",
    "\n",
    "# Defining a plotting function based on the value of alpha\n",
    "\n",
    "def update(alpha=1.5):\n",
    "    x_values = np.logspace(-1.5, 4, 50)\n",
    "    y_values = [F(x, alpha) for x in x_values]\n",
    "\n",
    "    plt.figure(figsize=(8, 6))\n",
    "    plt.plot(y_values, x_values)\n",
    "    plt.xlim(0, 4.7)\n",
    "    plt.xscale('linear')\n",
    "    plt.yscale('log')\n",
    "    plt.xlabel(r'$\\mathrm{E}_{\\mathrm{CGM}} \\ / \\ \\mathrm{M}_{\\mathrm{CGM}} \\ \\mathrm{v}_{\\varphi}$', fontsize=12)\n",
    "    plt.ylabel(r'$x_{\\mathrm{CGM}} \\ = \\ r_\\mathrm{CGM} \\ / \\ r_s$', fontsize=12)\n",
    "    plt.grid(True, linestyle='--', linewidth=0.5)\n",
    "    plt.show()\n",
    "\n",
    "# Creating an interactive slider\n",
    "# continuous_update=False makes the graph only update once the slider stops being moved, which can be changed to True.\n",
    "alpha_slider = FloatSlider(min=1.25, max=2.5, step=0.01, value=1.5, continuous_update=False)\n",
    "interact(update, alpha=alpha_slider);"
   ]
  },
  {
   "cell_type": "code",
   "execution_count": 3,
   "id": "ef96e1ba-6176-4fd4-a332-e2b96da8d526",
   "metadata": {},
   "outputs": [
    {
     "data": {
      "application/vnd.jupyter.widget-view+json": {
       "model_id": "766b747ebaf84020ac43fda74215bf1c",
       "version_major": 2,
       "version_minor": 0
      },
      "text/plain": [
       "interactive(children=(FloatSlider(value=2.0, continuous_update=False, description='rmax', max=2.4, min=1.0, st…"
      ]
     },
     "metadata": {},
     "output_type": "display_data"
    }
   ],
   "source": [
    "# This version makes alpha a function of rmax instead of a constant, as described in https://gmvoit.github.io/ExpCGM/extensions/PressureProfiles.html\n",
    "# Where rmax is the radius (as a multiple of r_s) at which v_c is maximized in an NFW \n",
    "\n",
    "A_NFW = 4.625\n",
    "eps = 10**(-4)\n",
    "\n",
    "# We need to redefine our functions so that they depend on rmax instead of alpha\n",
    "\n",
    "def alpha(x, rmax):\n",
    "    return (3.4*x)/(rmax + x)\n",
    "\n",
    "def integrandf_P(t, rmax):\n",
    "    return alpha(t, rmax) / t\n",
    "\n",
    "def f_P(x, rmax):        \n",
    "    resultf_P, _ = integrate.quad(integrandf_P, 1+eps, x, args=(rmax,), limit=50)\n",
    "    return np.exp(-resultf_P)\n",
    "\n",
    "def vc2(x):\n",
    "    return np.log(1+x) / x - 1 / (1+x)\n",
    "\n",
    "def phi(x):\n",
    "    return 1- np.log(1+x)/x\n",
    "\n",
    "def integrandI(t, rmax):\n",
    "    return alpha(t, rmax) * f_P(t, rmax) * t**2 / vc2(t)\n",
    "\n",
    "def I(x, rmax):        \n",
    "    resultI, _ = integrate.quad(integrandI, eps, x, args=(rmax,), limit=50)\n",
    "    return 1 / A_NFW * resultI\n",
    "\n",
    "def integrandJphi(t, rmax):\n",
    "    return alpha(t, rmax) * f_P(t, rmax) * phi(t) / vc2(t) * t**2\n",
    "\n",
    "def Jphi(x, rmax):\n",
    "    resultJphi, _ = integrate.quad(integrandJphi, eps, x, args=(rmax,), limit=50)\n",
    "    return resultJphi\n",
    "\n",
    "def integrandJth(t, rmax):\n",
    "    return f_P(t, rmax) * t**2\n",
    "\n",
    "def Jth(x, rmax):\n",
    "    resultJth, _ = integrate.quad(integrandJth, eps, x, args=(rmax,), limit=50)\n",
    "    return 3 / 2 * resultJth\n",
    "\n",
    "def F(x, rmax):\n",
    "    return (Jphi(x, rmax) + Jth(x, rmax)) / I(x, rmax)\n",
    "\n",
    "def update(rmax = 2):\n",
    "    x_values = np.logspace(-1.5, 4, 50)\n",
    "    y_values = [F(x, rmax) for x in x_values]\n",
    "\n",
    "    plt.figure(figsize=(8, 6))\n",
    "    plt.plot(y_values, x_values)\n",
    "    plt.xlim(0, 4.7)\n",
    "    plt.xscale('linear')\n",
    "    plt.yscale('log')\n",
    "    plt.xlabel(r'$\\mathrm{E}_{\\mathrm{CGM}} \\ / \\ \\mathrm{M}_{\\mathrm{CGM}} \\ \\mathrm{v}_{\\varphi}$', fontsize=12)\n",
    "    plt.ylabel(r'$x_{\\mathrm{CGM}} \\ = \\ r_\\mathrm{CGM} \\ / \\ r_s$', fontsize=12)\n",
    "    plt.grid(True, linestyle='--', linewidth=0.5)\n",
    "    plt.show()\n",
    "\n",
    "rmax_slider = FloatSlider(min=1, max=2.4, step=0.01, value=2, continuous_update=False)\n",
    "interact(update, rmax=rmax_slider);"
   ]
  },
  {
   "cell_type": "code",
   "execution_count": 4,
   "id": "4202832b-dd77-4093-b1b4-253a252eff2e",
   "metadata": {},
   "outputs": [
    {
     "data": {
      "image/png": "[encoded data removed]",
      "text/plain": [
       "<Figure size 576x432 with 1 Axes>"
      ]
     },
     "metadata": {
      "needs_background": "light"
     },
     "output_type": "display_data"
    }
   ],
   "source": [
    "# Finally, this version adds the central galaxy to the rotation curve.\n",
    "# We do this using the Hernquist model, as described in gmvoit.github.io/ExpCGM/fitting_data/InputParameters.html\n",
    "\n",
    "A_NFW = 4.625\n",
    "eps = 10**(-4)\n",
    "r_H = 0.2 # The Hernquist radius is the radius at which v_c is maximized in the Hernquist model.\n",
    "rmax = 2.163\n",
    "\n",
    "# We will start defining the radius curves according to their maximum velocity, v_phi (in km/s)\n",
    "# You can change this value to see how the graph changes. Tying this value to a slider unfortunately makes the graph update too slowly.\n",
    "vphi = 300\n",
    "\n",
    "# Calculating (v_phi)^2 in m/s \n",
    "vphi2 = (vphi * 1e3)**2\n",
    "\n",
    "# In this version, if we let both v_c^2 and alpha go to 0, the J_phi integral misbehaves causing double values\n",
    "# One solution to this is to go back to a model with constant alpha.\n",
    "# Another is to give a lower bound to alpha, taking the maximum of the two functions\n",
    "# This approach works for down to alpha = ~0.7, though it gives an increasingly jagged graph\n",
    "\n",
    "def alpha(x, rmax):\n",
    "    # return 3.4 * ( x/rmax /(1+x/rmax) )   # option 1\n",
    "    \n",
    "    return 1.5   # option 2\n",
    "    \n",
    "    # alpha1 = 3.4 * ( x/rmax /(1+x/rmax) )\n",
    "    # alpha2 = 0.7\n",
    "    # return max(alpha1,alpha2)   # option 3\n",
    "\n",
    "def integrandf_P(t, rmax):\n",
    "    return alpha(t, rmax) / t\n",
    "\n",
    "def f_P(x, rmax):\n",
    "    resultf_P, _ = integrate.quad(integrandf_P, 1+eps, x, args=(rmax,), limit=50)\n",
    "    return np.exp(-resultf_P)\n",
    "\n",
    "# Defining the NFW and Hernquist models seperately, then adding them together\n",
    "\n",
    "def v2_NFW(x):\n",
    "    return A_NFW * vphi2 * (np.log(1+x) / x - 1 / (1+x))\n",
    "\n",
    "def v2_H(x):\n",
    "    return 4 * vphi2 * r_H * x / (x + r_H)**2\n",
    "\n",
    "def vc2(x):\n",
    "    return v2_NFW(x) + v2_H(x)\n",
    "\n",
    "def integrandphi(t):\n",
    "    return vc2(t) / t\n",
    "\n",
    "def phi(x):\n",
    "    resultphi, _ = integrate.quad(integrandphi, eps, x, limit=50)\n",
    "    return resultphi\n",
    "\n",
    "def integrandI(t, rmax):\n",
    "    return vphi2 * alpha(t, rmax) * f_P(t, rmax) * t**2 / (vc2(t))\n",
    "\n",
    "def I(x, rmax):        \n",
    "    resultI, _ = integrate.quad(integrandI, eps, x, args=(rmax), limit=50)\n",
    "    return resultI\n",
    "\n",
    "def integrandJphi(t, rmax):\n",
    "    return alpha(t, rmax) * f_P(t, rmax) * phi(t) / vc2(t) * t**2\n",
    "\n",
    "def Jphi(x, rmax):\n",
    "    resultJphi, _ = integrate.quad(integrandJphi, eps, x, args=(rmax), limit=50)\n",
    "    return resultJphi\n",
    "\n",
    "def integrandJth(t, rmax):\n",
    "    return f_P(t, rmax) * t**2\n",
    "\n",
    "def Jth(x, rmax):\n",
    "    resultJth, _ = integrate.quad(integrandJth, eps, x, args=(rmax,), limit=50)\n",
    "    return 3 / 2 * resultJth\n",
    "\n",
    "def F(x, rmax):\n",
    "    return (Jth(x, rmax)+Jphi(x, rmax)) / I(x, rmax)\n",
    "\n",
    "x_values = np.logspace(-1.5, 2.2, 50)\n",
    "y_values = [F(x,rmax) for x in x_values]\n",
    "\n",
    "plt.figure(figsize=(8, 6))\n",
    "plt.plot(y_values, x_values)\n",
    "plt.xscale('linear')\n",
    "plt.yscale('log')\n",
    "plt.xlabel(r'$\\mathrm{E}_{\\mathrm{CGM}} \\ / \\ \\mathrm{M}_{\\mathrm{CGM}} \\ \\mathrm{v}_{\\varphi}$', fontsize=12)\n",
    "plt.ylabel(r'$x_{\\mathrm{CGM}} \\ = \\ r_\\mathrm{CGM} \\ / \\ r_s$', fontsize=12)\n",
    "plt.grid(True, linestyle='--', linewidth=0.5)\n",
    "plt.show()"
   ]
  },
  {
   "cell_type": "code",
   "execution_count": 5,
   "id": "544c4122-78ba-4a7a-b69a-41944a723509",
   "metadata": {},
   "outputs": [
    {
     "data": {
      "image/png": "[encoded data removed]",
      "text/plain": [
       "<Figure size 576x432 with 1 Axes>"
      ]
     },
     "metadata": {
      "needs_background": "light"
     },
     "output_type": "display_data"
    }
   ],
   "source": [
    "# We can also plot our rotation curve being used to see if it's right\n",
    "\n",
    "x_values_2 = np.logspace(-5, 0.7, 100)\n",
    "v_c_values = [np.sqrt(vc2(x))/1e3 for x in x_values_2]\n",
    "\n",
    "plt.figure(figsize=(8, 6))\n",
    "plt.plot(x_values_2, v_c_values)\n",
    "plt.xscale('linear')\n",
    "plt.yscale('linear')\n",
    "plt.xlabel(r'$x \\ = \\ r \\ / \\ r_s$', fontsize=12)\n",
    "plt.ylabel(r'$v_c$ (km/s)', fontsize=12)\n",
    "plt.grid(True, linestyle='--', linewidth=0.5)\n",
    "plt.show()"
   ]
  },
  {
   "cell_type": "code",
   "execution_count": null,
   "id": "f12658a1",
   "metadata": {},
   "outputs": [],
   "source": []
  }
 ],
 "metadata": {
  "kernelspec": {
   "display_name": "Python 3 (ipykernel)",
   "language": "python",
   "name": "python3"
  },
  "language_info": {
   "codemirror_mode": {
    "name": "ipython",
    "version": 3
   },
   "file_extension": ".py",
   "mimetype": "text/x-python",
   "name": "python",
   "nbconvert_exporter": "python",
   "pygments_lexer": "ipython3",
   "version": "3.10.2"
  }
 },
 "nbformat": 4,
 "nbformat_minor": 5
}
